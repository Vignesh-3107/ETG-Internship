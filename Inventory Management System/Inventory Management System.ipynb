{
 "cells": [
  {
   "cell_type": "markdown",
   "id": "73db62ff",
   "metadata": {},
   "source": [
    "#                        INVENTORY MANAGEMENT SYSTEM\n",
    "\n",
    "##                                  Elite Techno Groups Internship \n",
    "\n",
    "###                                                 Submitted By :  VIGNESH C"
   ]
  },
  {
   "cell_type": "markdown",
   "id": "5c05c81d",
   "metadata": {},
   "source": [
    "### Importing Required Libaries"
   ]
  },
  {
   "cell_type": "code",
   "execution_count": 1,
   "id": "3ecfbcf4",
   "metadata": {},
   "outputs": [],
   "source": [
    "import json\n",
    "import time\n",
    "import random"
   ]
  },
  {
   "cell_type": "code",
   "execution_count": 2,
   "id": "5b607afe",
   "metadata": {},
   "outputs": [],
   "source": [
    "Time=time.ctime()\n",
    "Time=list(Time.split(' '))\n",
    "Time.pop(2)\n",
    "DATE=Time[1]+\" \"+Time[2]+\" \"+Time[4]\n",
    "TIME=Time[3]\n",
    "BILL= random.randint(10000,20000)\n",
    "BILL_NO=round(BILL*7.156)\n"
   ]
  },
  {
   "cell_type": "markdown",
   "id": "33c1faf7",
   "metadata": {},
   "source": [
    "### Opening Json file"
   ]
  },
  {
   "cell_type": "code",
   "execution_count": 3,
   "id": "1a25a6be",
   "metadata": {},
   "outputs": [],
   "source": [
    "file=open(\"products.json\",\"r\")\n",
    "products=file.read()\n",
    "file.close()"
   ]
  },
  {
   "cell_type": "code",
   "execution_count": 4,
   "id": "781295e5",
   "metadata": {},
   "outputs": [],
   "source": [
    "listed=json.loads(products)"
   ]
  },
  {
   "cell_type": "markdown",
   "id": "fe39e981",
   "metadata": {},
   "source": [
    "### Displaying Products "
   ]
  },
  {
   "cell_type": "code",
   "execution_count": 5,
   "id": "5babf03a",
   "metadata": {},
   "outputs": [
    {
     "name": "stdout",
     "output_type": "stream",
     "text": [
      "\n",
      "Total Items Found :  35\n",
      "Atta ~ Cap ~ Chalk ~ Coffee ~ Cooking Oil ~ Cream ~ Cumin ~ Cup ~ Gel ~ Ghee ~ Glue ~ Gram ~ Hair Oil ~ Ink ~ Jaggery ~ Juice ~ Lotion ~ Markers ~ NoteBooks ~ Pen ~ Pepper ~ Red Chilli ~ Rice ~ Salt ~ Shampoo ~ Soap ~ Soda ~ Sugar ~ Talc ~ Tea ~ Tooth Brush ~ Tooth Paste ~ Turmeric Powder ~ Watch ~ Water ~ "
     ]
    }
   ],
   "source": [
    "lis=0\n",
    "names=[]\n",
    "for i in listed:\n",
    "    names.append(listed[i][\"Product_Name\"])\n",
    "    lis=lis+1\n",
    "print(\"\\nTotal Items Found : \",lis)\n",
    "names.sort()\n",
    "for i in names:\n",
    "    print(i,end=' ~ ')"
   ]
  },
  {
   "cell_type": "markdown",
   "id": "6ce2591a",
   "metadata": {},
   "source": [
    "### Data from Customer's "
   ]
  },
  {
   "cell_type": "code",
   "execution_count": 6,
   "id": "3b6c9d80",
   "metadata": {},
   "outputs": [
    {
     "name": "stdout",
     "output_type": "stream",
     "text": [
      "Enter your Name : NANDHAKUMARAN S\n",
      "Enter your Mobile No : 9629581752\n",
      "\n",
      " \t\t !!! NOTE:   TYPE  ' END ' FOR OVER  !!! \n",
      " \t\t Enter Items which you want with Quantity  \n",
      "\n",
      "Enter Product  : RICE\n",
      "Enter Quantity : 12\n",
      "Enter Product  : cup\n",
      "Enter Quantity : 1\n",
      "Enter Product  : tea\n",
      "Enter Quantity : 4\n",
      "Enter Product  : Salt\n",
      "Enter Quantity : 5\n",
      "Enter Product  : soap\n",
      "Enter Quantity : 6\n",
      "Enter Product  : pen\n",
      "Enter Quantity : 10\n",
      "Enter Product  : markers\n",
      "Enter Quantity : 5\n",
      "Enter Product  : ghee\n",
      "Enter Quantity : 2\n",
      "Enter Product  : glue\n",
      "Enter Quantity : 4\n",
      "Enter Product  : ink\n",
      "Enter Quantity : 2\n",
      "Enter Product  : notebooks\n",
      "Enter Quantity : 2\n",
      "Enter Product  : END\n"
     ]
    }
   ],
   "source": [
    "prod=[]\n",
    "num=[]\n",
    "lon=len(names)\n",
    "NAME=str(input(\"Enter your Name : \"))\n",
    "MOBILE=str(input(\"Enter your Mobile No : \"))\n",
    "for e in range(1,2):\n",
    "    print()\n",
    "    print(\" \\t\\t !!! NOTE:   TYPE  ' END ' FOR OVER  !!! \")\n",
    "    print(\" \\t\\t Enter Items which you want with Quantity  \")\n",
    "    print()\n",
    "    for j in range(lon):\n",
    "        lst=str(input(\"Enter Product  : \"))\n",
    "        if lst!=\"END\":\n",
    "            prod.append(lst)\n",
    "            no=int(input(\"Enter Quantity : \"))\n",
    "            if no!=0:\n",
    "                num.append(no)\n",
    "        else:\n",
    "            break"
   ]
  },
  {
   "cell_type": "code",
   "execution_count": 7,
   "id": "717a3206",
   "metadata": {},
   "outputs": [],
   "source": [
    "Id=[]\n",
    "Discount=[]\n",
    "MRP=[]\n",
    "Total=[]\n",
    "Category=[]\n",
    "Actual_Total=[]\n",
    "\n",
    "length=len(prod)\n",
    "for i in range(length):\n",
    "    S_NO=i+1\n",
    "    Items=prod[i]\n",
    "    Quantity=num[i]\n",
    "    for j in listed:\n",
    "        fin=listed[j][\"Product_Name\"]\n",
    "        if fin.lower() == Items.lower(): \n",
    "            Id.append(j)\n",
    "            Category.append(listed[j][\"Category\"])\n",
    "            MRP.append(listed[j][\"MRP\"])\n",
    "            Discount.append(listed[j][\"Discount\"])\n",
    "            Total.append(Quantity * (MRP[i]-Discount[i]))\n",
    "            Actual_Total.append(listed[j][\"MRP\"]*num[i])\n",
    "         "
   ]
  },
  {
   "cell_type": "code",
   "execution_count": 8,
   "id": "08082fef",
   "metadata": {},
   "outputs": [],
   "source": [
    "TP=0      #TOTAL PRICE\n",
    "TD=0      # TOTAL DISCOUNT ( BASED ON ONE QUANTITY  )\n",
    "TM=0      # TOTAL MRP \n",
    "TQ=0      # TOTAL QUANTITY\n",
    "TI=0      # TOTAL ITEMS\n",
    "TP=sum(Total)\n",
    "TD=sum(Discount)\n",
    "TM=sum(Actual_Total)\n",
    "TQ=sum(num)\n",
    "TI=len(prod)\n",
    "Save=TM-TP"
   ]
  },
  {
   "cell_type": "markdown",
   "id": "ebd17c8b",
   "metadata": {},
   "source": [
    "### Generating Bill For Customers "
   ]
  },
  {
   "cell_type": "code",
   "execution_count": 9,
   "id": "e0a394be",
   "metadata": {},
   "outputs": [
    {
     "name": "stdout",
     "output_type": "stream",
     "text": [
      "ENTER USER NAME : VIKNESH\n",
      "ENTER USER ID : 7936cs5v1\n"
     ]
    }
   ],
   "source": [
    "USER=str(input(\"ENTER USER NAME : \"))\n",
    "USER_ID=str(input(\"ENTER USER ID : \"))\n",
    "sym=u\"\\u20B9\""
   ]
  },
  {
   "cell_type": "code",
   "execution_count": 10,
   "id": "59507830",
   "metadata": {},
   "outputs": [
    {
     "name": "stdout",
     "output_type": "stream",
     "text": [
      "\t\t\t\t   HAWK STORES \n",
      " \t\t\t\tNEW DELHI ,INDIA \n",
      "\t\t\t\t PH:0429 25786  \n",
      "\t\t\t\t   CASH BILL\n",
      "  ****************************************************************************************** \n",
      "        BILL NO : 132873  \t\t\t\t USER NAME : VIKNESH\n",
      "  CUSTOMER NAME : NANDHAKUMARAN S\t\t\t USER ID   : 7936CS5V1\n",
      "      MOBILE NO : 9629581752\t\t\t\t DATE\t   : Sep 2 2021\n",
      "\t\t\t\t\t\t\t TIME\t   : 16:57:27\n",
      "  ****************************************************************************************** \n",
      " \t\t\t\t PRODUCTS LIST\n",
      "_____________________________________________________________________________________________\n",
      "S NO  Product ID   Items Name \t  Category \tQuantity  MRP( ₹)  Discount( ₹)   Total( ₹)\n",
      "_____________________________________________________________________________________________\n",
      " 1\t71016\t     RICE\t   Grocery\t   12\t   750\t     2.0\t   8976.0\n",
      " 2\t71005\t     CUP\t   Utensils\t   1\t   75\t     1.02\t   73.98\n",
      " 3\t71009\t     TEA\t   Grocery\t   4\t   59\t     2.3\t   226.8\n",
      " 4\t71025\t     SALT\t   Grocery\t   5\t   20\t     4.0\t   80.0\n",
      " 5\t71010\t     SOAP\t   Cosmetics\t   6\t   45\t     4.3\t   244.2\n",
      " 6\t71008\t     PEN\t   Stationary\t   10\t   15\t     2.2\t   128.0\n",
      " 7\t71032\t     MARKERS\t   Stationary\t   5\t   27\t     1.2\t   129.0\n",
      " 8\t71019\t     GHEE\t   Grocery\t   2\t   250\t     3.1\t   493.8\n",
      " 9\t71033\t     GLUE\t   Stationary\t   4\t   25\t     1.6\t   93.6\n",
      " 10\t71035\t     INK\t   Stationary\t   2\t   25\t     2.4\t   45.2\n",
      " 11\t71007\t     NOTEBOOKS\t   Stationary\t   2\t   30\t     5.1\t   49.8\n",
      "_____________________________________________________________________________________________\n",
      "                                                \t\t  GRAND TOTAL : ₹ 10540.38\n",
      "\n",
      "_____________________________________________________________________________________________\n",
      "\n",
      "        TOTAL ITEMS    : 11  \t\t\t\t ACTUAL TOTAL MRP     : ₹ 10676\n",
      "        TOTAL QUANTITY : 53  \t\t\t\t TOTAL DISCOUNT PRICE : ₹ 29.22\n",
      "\n",
      "\t\t\t\t!!!  CONGRATS  !!!\n",
      " \t\t\t    YOU HAVE SAVED ₹ 135.62 RUPEES    \n",
      "_____________________________________________________________________________________________\n",
      " \t   ------------  GOODS ONCE SOLD CANNOT BE TAKEN BACK   -------------   \n",
      "  \t                    THANK YOU !   VISIT AGAIN !                        \n"
     ]
    }
   ],
   "source": [
    "print(\"\\t\\t\\t\\t   HAWK STORES \\n \\t\\t\\t\\tNEW DELHI ,INDIA \\n\\t\\t\\t\\t PH:0429 25786  \")\n",
    "print(\"\\t\\t\\t\\t   CASH BILL\")\n",
    "print(\"  ****************************************************************************************** \")\n",
    "print(\"        BILL NO : \"+str(BILL_NO)+\"  \\t\\t\\t\\t USER NAME : \"+USER.upper())\n",
    "print(\"  CUSTOMER NAME : \"+NAME.upper()+\"\\t\\t\\t USER ID   : \"+USER_ID.upper())\n",
    "print(\"      MOBILE NO : \"+MOBILE+\"\\t\\t\\t\\t DATE\\t   :\",DATE)\n",
    "print(\"\\t\\t\\t\\t\\t\\t\\t TIME\\t   :\",TIME)\n",
    "print(\"  ****************************************************************************************** \")\n",
    "print(\" \\t\\t\\t\\t PRODUCTS LIST\")\n",
    "print(\"_____________________________________________________________________________________________\")\n",
    "print(\"S NO  Product ID   Items Name \\t  Category \\tQuantity  MRP\"+\"( \"+sym+\")\"+\"  Discount\"+\"( \"+sym+\")\"+\"   Total\"+\"( \"+sym+\")\")\n",
    "print(\"_____________________________________________________________________________________________\")\n",
    "for i in range (length):\n",
    "    S_No=str(i+1)\n",
    "    Items=str(prod[i])\n",
    "    Quantity=str(num[i]) \n",
    "    print(\" \"+S_No+\"\\t\"+Id[i]+\"\\t     \"+Items.upper()+\"\\t   \"+Category[i]+\"\\t   \"+str(Quantity)+\"\\t   \"+str(MRP[i])+\"\\t     \"+str(Discount[i])+\"\\t   \"+str(round(Total[i],2)))\n",
    "print(\"_____________________________________________________________________________________________\")\n",
    "print(\"                                                \\t\\t  GRAND TOTAL : \"+sym+\" \"+str(round(TP,2)))\n",
    "print()\n",
    "print(\"_____________________________________________________________________________________________\")\n",
    "print()\n",
    "print(\"        TOTAL ITEMS    : \"+str(TI)+\"  \\t\\t\\t\\t ACTUAL TOTAL MRP     : \"+sym+\" \"+str(round(TM,2)))\n",
    "print(\"        TOTAL QUANTITY : \"+str(TQ)+\"  \\t\\t\\t\\t TOTAL DISCOUNT PRICE : \"+sym+\" \"+str(round(TD,2)))\n",
    "print()\n",
    "print(\"\\t\\t\\t\\t!!!  CONGRATS  !!!\")\n",
    "print(\" \\t\\t\\t    YOU HAVE SAVED \"+sym+\" \"+str(round(Save,2))+\" RUPEES    \")\n",
    "print(\"_____________________________________________________________________________________________\")\n",
    "print(\" \\t   ------------  GOODS ONCE SOLD CANNOT BE TAKEN BACK   -------------   \")\n",
    "print(\"  \\t                    THANK YOU !   VISIT AGAIN !                        \")"
   ]
  },
  {
   "cell_type": "code",
   "execution_count": 11,
   "id": "67d3c7c8",
   "metadata": {},
   "outputs": [
    {
     "name": "stdout",
     "output_type": "stream",
     "text": [
      "\t\t\t\t\t *****  BILL GENERATED  *****\n"
     ]
    }
   ],
   "source": [
    "print(\"\\t\\t\\t\\t\\t *****  BILL GENERATED  *****\")"
   ]
  },
  {
   "cell_type": "markdown",
   "id": "6b45ece0",
   "metadata": {},
   "source": [
    "### Changing details and Saving in Json"
   ]
  },
  {
   "cell_type": "code",
   "execution_count": 12,
   "id": "8aedbc02",
   "metadata": {},
   "outputs": [],
   "source": [
    "for i in range(length):\n",
    "    if prod[i].lower() == listed[Id[i]][\"Product_Name\"].lower():\n",
    "        l=int(listed[Id[i]][\"Quantity\"])-num[i]\n",
    "        listed[Id[i]][\"Quantity\"]=str(l)  "
   ]
  },
  {
   "cell_type": "code",
   "execution_count": 13,
   "id": "940bd85f",
   "metadata": {},
   "outputs": [],
   "source": [
    "json=json.dumps(listed)"
   ]
  },
  {
   "cell_type": "code",
   "execution_count": 14,
   "id": "00660855",
   "metadata": {},
   "outputs": [
    {
     "name": "stdout",
     "output_type": "stream",
     "text": [
      "\t\t\t\t\t   *****  FILE SAVED  *****\n"
     ]
    }
   ],
   "source": [
    "refil=open(\"products.json\",\"w\")\n",
    "refil.write(json)\n",
    "refil.close()\n",
    "print(\"\\t\\t\\t\\t\\t   *****  FILE SAVED  *****\")"
   ]
  },
  {
   "cell_type": "markdown",
   "id": "8914539d",
   "metadata": {},
   "source": [
    "##                                **********     CODING OVER    **********"
   ]
  }
 ],
 "metadata": {
  "kernelspec": {
   "display_name": "Python 3",
   "language": "python",
   "name": "python3"
  },
  "language_info": {
   "codemirror_mode": {
    "name": "ipython",
    "version": 3
   },
   "file_extension": ".py",
   "mimetype": "text/x-python",
   "name": "python",
   "nbconvert_exporter": "python",
   "pygments_lexer": "ipython3",
   "version": "3.8.8"
  }
 },
 "nbformat": 4,
 "nbformat_minor": 5
}
