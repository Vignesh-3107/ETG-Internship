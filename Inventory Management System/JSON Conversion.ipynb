{
 "cells": [
  {
   "cell_type": "code",
   "execution_count": 3,
   "id": "0f952405",
   "metadata": {},
   "outputs": [],
   "source": [
    "products={ 71001:{\"Product_Name\":\"Turmeric Powder\",\"MRP\":25,\"Category\":\"Spices\",\"Quantity\":250,\"Discount\":1.56 },\n",
    "           71002:{\"Product_Name\":\"Pepper\",\"MRP\":20,\"Category\":\"Spices\",\"Quantity\":550,\"Discount\":2.4 },\n",
    "           71003:{\"Product_Name\":\"Cumin\",\"MRP\":30,\"Category\":\"Spices\",\"Quantity\":650,\"Discount\":3 },\n",
    "           71004:{\"Product_Name\":\"Cooking Oil\",\"MRP\":150,\"Category\":\"Grocery\",\"Quantity\":350,\"Discount\":2.5 },\n",
    "           71005:{\"Product_Name\":\"Cup\",\"MRP\":75,\"Category\":\"Utensils\",\"Quantity\":40,\"Discount\":1.02 },\n",
    "           71006:{\"Product_Name\":\"Talc\",\"MRP\":65,\"Category\":\"Cosmetics\",\"Quantity\":50,\"Discount\":1.2 },\n",
    "           71007:{\"Product_Name\":\"NoteBooks\",\"MRP\":30,\"Category\":\"Stationary\",\"Quantity\":100,\"Discount\":5 },\n",
    "           71008:{\"Product_Name\":\"Pen\",\"MRP\":15,\"Category\":\"Stationary\",\"Quantity\":120,\"Discount\":2 },\n",
    "           71009:{\"Product_Name\":\"Tea\",\"MRP\":59,\"Category\":\"Grocery\",\"Quantity\":70,\"Discount\":2 },\n",
    "           71010:{\"Product_Name\":\"Soap\",\"MRP\":45,\"Category\":\"Cosmetics\",\"Quantity\":160,\"Discount\":4.3 },\n",
    "           71011:{\"Product_Name\":\"Tooth Brush\",\"MRP\":25,\"Category\":\"Cosmetics\",\"Quantity\":60,\"Discount\":5 },\n",
    "           71012:{\"Product_Name\":\"Tooth Paste\",\"MRP\":90,\"Category\":\"Cosmetics\",\"Quantity\":90,\"Discount\":2.5 },\n",
    "           71013:{\"Product_Name\":\"Watch\",\"MRP\":596,\"Category\":\"Fashion Accessories\",\"Quantity\":50,\"Discount\":5.7 },\n",
    "           71014:{\"Product_Name\":\"Cap\",\"MRP\":250,\"Category\":\"Fashion Accessories\",\"Quantity\":30,\"Discount\":3 },\n",
    "           71015:{\"Product_Name\":\"Gel\",\"MRP\":40,\"Category\":\"Cosmetics\",\"Quantity\":80,\"Discount\":4.2 },\n",
    "           71016:{\"Product_Name\":\"Rice\",\"MRP\":750,\"Category\":\"Grocery\",\"Quantity\":190,\"Discount\":2 },\n",
    "           71017:{\"Product_Name\":\"Gram\",\"MRP\":350,\"Category\":\"Grocery\",\"Quantity\":70,\"Discount\":4 },\n",
    "           71018:{\"Product_Name\":\"Atta\",\"MRP\":450,\"Category\":\"Grocery\",\"Quantity\":40,\"Discount\":3 },\n",
    "           71019:{\"Product_Name\":\"Ghee\",\"MRP\":250,\"Category\":\"Grocery\",\"Quantity\":80,\"Discount\":3.1 },\n",
    "           71020:{\"Product_Name\":\"Lotion\",\"MRP\":350,\"Category\":\"Cosmetics\",\"Quantity\":70,\"Discount\":1.4 },\n",
    "           71021:{\"Product_Name\":\"Water\",\"MRP\":20,\"Category\":\"Drinks\",\"Quantity\":750,\"Discount\":4 },\n",
    "           71022:{\"Product_Name\":\"Juice\",\"MRP\":35,\"Category\":\"Drinks\",\"Quantity\":50,\"Discount\":5 },\n",
    "           71023:{\"Product_Name\":\"Shampoo\",\"MRP\":42,\"Category\":\"Cosmetics\",\"Quantity\":70,\"Discount\":2.5 },\n",
    "           71024:{\"Product_Name\":\"Soda\",\"MRP\":25,\"Category\":\"Drinks\",\"Quantity\":60,\"Discount\":3.2 },\n",
    "           71025:{\"Product_Name\":\"Salt\",\"MRP\":20,\"Category\":\"Grocery\",\"Quantity\":75,\"Discount\":4 },\n",
    "           71026:{\"Product_Name\":\"Hair Oil\",\"MRP\":50,\"Category\":\"Cosmetics\",\"Quantity\":40,\"Discount\":3.4 },\n",
    "           71027:{\"Product_Name\":\"Cream\",\"MRP\":65,\"Category\":\"Cosmetics\",\"Quantity\":45,\"Discount\":4.2 },\n",
    "           71028:{\"Product_Name\":\"Sugar\",\"MRP\":45,\"Category\":\"Grocery\",\"Quantity\":85,\"Discount\":2.6 },\n",
    "           71029:{\"Product_Name\":\"Jaggery\",\"MRP\":100,\"Category\":\"Grocery\",\"Quantity\":55,\"Discount\":3.9 },\n",
    "           71030:{\"Product_Name\":\"Red Chilli\",\"MRP\":54,\"Category\":\"Grocery\",\"Quantity\":95,\"Discount\":4.1 },\n",
    "           71031:{\"Product_Name\":\"Coffee\",\"MRP\":58,\"Category\":\"Grocery\",\"Quantity\":72,\"Discount\":2.4 },\n",
    "           71032:{\"Product_Name\":\"Markers\",\"MRP\":27,\"Category\":\"Stationary\",\"Quantity\":52,\"Discount\":1.2 },\n",
    "           71033:{\"Product_Name\":\"Glue\",\"MRP\":25,\"Category\":\"Stationary\",\"Quantity\":45,\"Discount\":1.6 },\n",
    "           71034:{\"Product_Name\":\"Chalk\",\"MRP\":20,\"Category\":\"Stationary\",\"Quantity\":65,\"Discount\":2.9 },\n",
    "           71035:{\"Product_Name\":\"Ink\",\"MRP\":25,\"Category\":\"Stationary\",\"Quantity\":83,\"Discount\":2.4 }\n",
    "}"
   ]
  },
  {
   "cell_type": "code",
   "execution_count": 6,
   "id": "dc13fead",
   "metadata": {},
   "outputs": [],
   "source": [
    "import json"
   ]
  },
  {
   "cell_type": "code",
   "execution_count": 7,
   "id": "c0b53a12",
   "metadata": {},
   "outputs": [],
   "source": [
    "js=json.dumps(products)"
   ]
  },
  {
   "cell_type": "code",
   "execution_count": 8,
   "id": "9e08ad5a",
   "metadata": {},
   "outputs": [],
   "source": [
    "file=open(\"products.json\",\"w\")\n",
    "file.write(js)\n",
    "file.close()"
   ]
  },
  {
   "cell_type": "code",
   "execution_count": null,
   "id": "1e61e830",
   "metadata": {},
   "outputs": [],
   "source": []
  }
 ],
 "metadata": {
  "kernelspec": {
   "display_name": "Python 3",
   "language": "python",
   "name": "python3"
  },
  "language_info": {
   "codemirror_mode": {
    "name": "ipython",
    "version": 3
   },
   "file_extension": ".py",
   "mimetype": "text/x-python",
   "name": "python",
   "nbconvert_exporter": "python",
   "pygments_lexer": "ipython3",
   "version": "3.8.8"
  }
 },
 "nbformat": 4,
 "nbformat_minor": 5
}
